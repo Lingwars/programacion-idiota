{
 "cells": [
  {
   "source": [
    "Importamos spacy y el modelo de español - he escogido el pequeño. También importamos el matcher de spacy.\n",
    "Creo las variables nlp y matcher para luego trabajar con estas herramientas más fácilmente. nlp analizará el texto y\n",
    "matcher procesará todos los matches en nuestro texto."
   ],
   "cell_type": "markdown",
   "metadata": {}
  },
  {
   "cell_type": "code",
   "execution_count": 1,
   "metadata": {},
   "outputs": [],
   "source": [
    "import spacy\n",
    "from spacy.matcher import Matcher\n",
    "\n",
    "nlp = spacy.load(\"es_core_news_sm\")\n",
    "matcher = Matcher(nlp.vocab)"
   ]
  },
  {
   "cell_type": "code",
   "execution_count": 2,
   "metadata": {},
   "outputs": [],
   "source": [
    "def analisis(string):\n",
    "    \"\"\"Una función que nos ayudará a saber cómo analiza SpaCy los elementos de una frase\"\"\"\n",
    "    texto = nlp(string)\n",
    "    for token in texto:\n",
    "        print(token.text, token.lemma_, token.pos_, token.tag_, token.dep_)"
   ]
  },
  {
   "cell_type": "code",
   "execution_count": 3,
   "metadata": {},
   "outputs": [],
   "source": [
    "#Algunos títulos de pueba para comprobar el código más adelante.\n",
    "datos = \"La monja enana, La oreja de Van Gogh, Jarabe de palo, Amaral, La casa azul, Los planetas, La quinta estación, \\\n",
    "Los toreros muertos, Hombres G\""
   ]
  },
  {
   "cell_type": "markdown",
   "metadata": {},
   "source": [
    "Información sobre el matcher y ejemplos de código: https://spacy.io/usage/rule-based-matching#matcher"
   ]
  },
  {
   "cell_type": "code",
   "execution_count": 4,
   "metadata": {},
   "outputs": [],
   "source": [
    "#Creo el patrón que queremos buscar y lo añado al matcher- POS = Part of Speech\n",
    "pattern = [{\"POS\": \"DET\"}, {\"POS\": \"NOUN\"}, {\"POS\": \"ADJ\"}]\n",
    "matcher.add(\"det_sust_adj\", None, pattern) #arguments: match_id, on_match, *patterns\n",
    "   "
   ]
  },
  {
   "source": [
    "En lugar de None, se puede llamar a una función que hayas creado y que se active cuando se produzca un match.\n",
    "Ej. de spacy:\n",
    "def on_match(matcher, doc, id, matches):\n",
    "      print('Matched!', matches)\n",
    "En la nueva versión de Spacy parece que on_match es opcional pero no en las antiguas.\n",
    "\n",
    "Ahora hago que spacy analice nuestros nombres de grupos y los paso por el matcher que va a crear una lista \n",
    "en nuestra variable matches."
   ],
   "cell_type": "markdown",
   "metadata": {}
  },
  {
   "cell_type": "code",
   "execution_count": 5,
   "metadata": {},
   "outputs": [
    {
     "output_type": "stream",
     "name": "stdout",
     "text": [
      "[(2052584671301345654, 0, 3), (2052584671301345654, 16, 19), (2052584671301345654, 27, 30)]\n"
     ]
    }
   ],
   "source": [
    "\n",
    "doc = nlp(datos)\n",
    "matches = matcher(doc)\n",
    "\n",
    "print(matches)"
   ]
  },
  {
   "source": [
    "Como la lista se ve de esta forma tan rara, vamos a crear un for loop que vaya por la lista y que nos \n",
    "imprima los datos que nosotros queramos. En este caso se ven el id y el nombre del patrón, el número de los token/s/es(?)\n",
    "inicial y final del match y su texto"
   ],
   "cell_type": "markdown",
   "metadata": {}
  },
  {
   "cell_type": "code",
   "execution_count": 6,
   "metadata": {},
   "outputs": [
    {
     "output_type": "stream",
     "name": "stdout",
     "text": [
      "2052584671301345654 det_sust_adj 0 3 La monja enana\n2052584671301345654 det_sust_adj 16 19 La casa azul\n2052584671301345654 det_sust_adj 27 30 Los toreros muertos\n"
     ]
    }
   ],
   "source": [
    "for match_id, start, end in matches:\n",
    "    string_id = nlp.vocab.strings[match_id]  # Este es el nombre patrón al que responde el match, por si hay más de uno \n",
    "    span = doc[start:end]  # El span del match\n",
    "    print(match_id, string_id, start, end, span.text)\n"
   ]
  },
  {
   "source": [
    "Abrimos el archivo con la colección de nombres de artistas y grupos que cantan en español, lo leemos, lo procesamos y le pasamos el matcher. Guardamos todo esto en variables que nos servirán más adelante."
   ],
   "cell_type": "markdown",
   "metadata": {}
  },
  {
   "cell_type": "code",
   "execution_count": 7,
   "metadata": {
    "tags": []
   },
   "outputs": [],
   "source": [
    "#Abrimos el archivo de artistas españoles.\n",
    "archivo = open('artistas_españoles.txt', 'r', encoding = 'UTF-8')\n",
    "archivo_leido = archivo.read()\n",
    "doc = nlp(archivo_leido)\n",
    "resultados = matcher(doc)\n",
    "archivo.close()"
   ]
  },
  {
   "cell_type": "code",
   "execution_count": 8,
   "metadata": {
    "tags": []
   },
   "outputs": [
    {
     "output_type": "stream",
     "name": "stdout",
     "text": [
      "2052584671301345654 det_sust_adj 1174 1177 las flores azules\n2052584671301345654 det_sust_adj 2365 2368 las flores azules\n"
     ]
    }
   ],
   "source": [
    "for match_id, start, end in resultados:\n",
    "    string_id = nlp.vocab.strings[match_id]  # Esto imprime el patrón al que responde el match, por si hay más de uno \n",
    "    span = doc[start:end]  # El span del match\n",
    "    print(match_id, string_id, start, end, span.text)\n"
   ]
  },
  {
   "source": [
    "SpaCy no ha identificado los grupos que esperábamos. Veamos cómo analiza este título sacado del documento:"
   ],
   "cell_type": "markdown",
   "metadata": {}
  },
  {
   "cell_type": "code",
   "execution_count": 9,
   "metadata": {},
   "outputs": [
    {
     "output_type": "stream",
     "name": "stdout",
     "text": [
      "La La DET DET__Definite=Def|Gender=Fem|Number=Sing|PronType=Art det\nMonja Monja PROPN PROPN___ ROOT\nEnana Enana PROPN PROPN___ flat\nLa La DET DET__Definite=Def|Gender=Fem|Number=Sing|PronType=Art det\nmonja monje NOUN NOUN__Gender=Fem|Number=Sing ROOT\nenana enano ADJ ADJ__Gender=Fem|Number=Sing amod\nla lo DET DET__Definite=Def|Gender=Fem|Number=Sing|PronType=Art det\nmonja monje NOUN NOUN__Gender=Fem|Number=Sing ROOT\nenana enano ADJ ADJ__Gender=Fem|Number=Sing amod\n"
     ]
    }
   ],
   "source": [
    "analisis(\"La Monja Enana\")\n",
    "analisis(\"La monja enana\")\n",
    "analisis(\"la monja enana\")"
   ]
  },
  {
   "source": [
    "SpaCy ha interpretado las mayúsuclas como un nombre propio. Veamos qué ocurre si convertimos el texto a minúsculas:"
   ],
   "cell_type": "markdown",
   "metadata": {}
  },
  {
   "cell_type": "code",
   "execution_count": 10,
   "metadata": {},
   "outputs": [
    {
     "output_type": "stream",
     "name": "stdout",
     "text": [
      "['Shakira', 'Ska-P', 'Enrique Iglesias', 'Gipsy Kings', 'Juanes']\n",
      "['Shakira', 'Ska-p', 'Enrique iglesias', 'Gipsy kings', 'Juanes']\n",
      "Shakira\n",
      "Ska-p\n",
      "Enrique iglesias\n",
      "Gipsy kings\n",
      "Juanes\n",
      "Manu chao\n",
      "Paco de lucía\n",
      "La oreja de van gogh\n",
      "Mägo \n"
     ]
    }
   ],
   "source": [
    "nombres = archivo_leido.split('\\n')\n",
    "print(nombres[0:5])\n",
    "\n",
    "lista_minusc = []\n",
    "\n",
    "for n in nombres:\n",
    "    minusc = n.capitalize()\n",
    "    lista_minusc.append(minusc)\n",
    "\n",
    "print(lista_minusc[0:5])\n",
    "\n",
    "nombres_minusc = '\\n'.join(lista_minusc)\n",
    "print(nombres_minusc[0:100])"
   ]
  },
  {
   "cell_type": "code",
   "execution_count": 11,
   "metadata": {},
   "outputs": [
    {
     "output_type": "stream",
     "name": "stdout",
     "text": [
      "2052584671301345654 det_sust_adj 237 240 La casa azul\n2052584671301345654 det_sust_adj 510 513 La polla records\n2052584671301345654 det_sust_adj 710 713 La habitación roja\n2052584671301345654 det_sust_adj 788 791 El columpio asesino\n2052584671301345654 det_sust_adj 880 883 La cabra mecánica\n2052584671301345654 det_sust_adj 1163 1166 La costa brava\n2052584671301345654 det_sust_adj 1174 1177 las flores azules\n2052584671301345654 det_sust_adj 1480 1483 La gusana ciega\n2052584671301345654 det_sust_adj 1704 1707 Los fresones rebeldes\n2052584671301345654 det_sust_adj 1752 1755 Los toreros muertos\n2052584671301345654 det_sust_adj 2189 2192 La monja enana\n2052584671301345654 det_sust_adj 2366 2369 las flores azules\n"
     ]
    }
   ],
   "source": [
    "doc_minusculas = nlp(nombres_minusc)\n",
    "resultados_minusculas = matcher(doc_minusculas)\n",
    "for match_id, start, end in resultados_minusculas:\n",
    "    string_id = nlp.vocab.strings[match_id]  # Esto imprime el patrón al que responde el match, por si hay más de uno \n",
    "    span = doc_minusculas[start:end]  # El span del match\n",
    "    print(match_id, string_id, start, end, span.text)\n"
   ]
  },
  {
   "source": [
    "Sigue habiendo problemas: los resultados 1174 1177 las flores azules y 2366 2369 las flores azules son partes de nombres,no el nombre completo. Esto es fácil de identificar pues no empiezan en mayúscula.\n",
    "\n",
    "Para evitar esto haremos un nuevo patrón que tenga en cuenta el salto de línea inicial y final, así nos aseguramos de que el patrón corresponde al título completo."
   ],
   "cell_type": "markdown",
   "metadata": {}
  },
  {
   "cell_type": "code",
   "execution_count": 12,
   "metadata": {},
   "outputs": [],
   "source": [
    "new_pattern = [{\"TEXT\":\"\\n\"}, {\"POS\": \"DET\"}, {\"POS\": \"NOUN\"}, {\"POS\": \"ADJ\"}, {\"TEXT\": \"\\n\"}]\n",
    "matcher.add(\"linea\", None, new_pattern) \n"
   ]
  },
  {
   "cell_type": "code",
   "execution_count": 13,
   "metadata": {},
   "outputs": [],
   "source": [
    "matcher.remove(\"det_sust_adj\") # Eliminamos el patrón anterior"
   ]
  },
  {
   "cell_type": "code",
   "execution_count": 14,
   "metadata": {},
   "outputs": [
    {
     "output_type": "stream",
     "name": "stdout",
     "text": [
      "16821187256031522237 linea 236 241 \nLa casa azul\n\n16821187256031522237 linea 509 514 \nLa polla records\n\n16821187256031522237 linea 709 714 \nLa habitación roja\n\n16821187256031522237 linea 787 792 \nEl columpio asesino\n\n16821187256031522237 linea 879 884 \nLa cabra mecánica\n\n16821187256031522237 linea 1162 1167 \nLa costa brava\n\n16821187256031522237 linea 1479 1484 \nLa gusana ciega\n\n16821187256031522237 linea 1703 1708 \nLos fresones rebeldes\n\n16821187256031522237 linea 1751 1756 \nLos toreros muertos\n\n16821187256031522237 linea 2188 2193 \nLa monja enana\n\n"
     ]
    }
   ],
   "source": [
    "nuevos_resultados = matcher(doc_minusculas)\n",
    "\n",
    "for match_id, start, end in nuevos_resultados:\n",
    "    string_id = nlp.vocab.strings[match_id]  # Esto imprime el patrón al que responde el match, por si hay más de uno \n",
    "    span = doc_minusculas[start:end]  # El span del match\n",
    "    print(match_id, string_id, start, end, span.text)"
   ]
  },
  {
   "source": [
    "Algunos títulos siguen presentando problemas que tienen que ver con la interpretación que hace SpaCy de las palabras. \n",
    "La aparición de \"La costa brava\" es discutible. Probablemente sería más correcto que se hubiera mantenido como \"La Costa Brava\" y que SpaCy lo interpretara como una entidad geográfica. Además ha interpretado \"records\" en \"La polla records\" como si fuera un adjetivo, probablemente debido a que no la reconoce como una palabra en inglés. "
   ],
   "cell_type": "markdown",
   "metadata": {}
  },
  {
   "cell_type": "code",
   "execution_count": 15,
   "metadata": {},
   "outputs": [
    {
     "output_type": "stream",
     "name": "stdout",
     "text": [
      "La La DET DET__Definite=Def|Gender=Fem|Number=Sing|PronType=Art det\n",
      "polla polla NOUN NOUN__Gender=Fem|Number=Sing ROOT\n",
      "records records ADJ ADJ__Gender=Masc|Number=Sing amod\n"
     ]
    }
   ],
   "source": [
    "analisis(\"La polla records\")"
   ]
  },
  {
   "cell_type": "code",
   "execution_count": null,
   "metadata": {},
   "outputs": [],
   "source": []
  }
 ],
 "metadata": {
  "kernelspec": {
   "display_name": "Python 3.7.7 64-bit ('nlp': conda)",
   "language": "python",
   "name": "python37764bitnlpconda91db47302b84443990f959525f0a7255"
  },
  "language_info": {
   "codemirror_mode": {
    "name": "ipython",
    "version": 3
   },
   "file_extension": ".py",
   "mimetype": "text/x-python",
   "name": "python",
   "nbconvert_exporter": "python",
   "pygments_lexer": "ipython3",
   "version": "3.7.7-final"
  }
 },
 "nbformat": 4,
 "nbformat_minor": 2
}